{
 "cells": [
  {
   "cell_type": "markdown",
   "id": "45a81e8b-30fa-4e64-a2ba-6d3b6ce5dd45",
   "metadata": {},
   "source": [
    "## Exercise\n",
    "\n",
    "See if Regularisation affects the results for a dataset we have analysed before.\n",
    "\n",
    "Either take the mtcars.csv dataset again or use the diabetes dataset.\n",
    "\n",
    "- Load up the dataset\n",
    "- Do your train/test split\n",
    "- Do regular Linear Regression first and then Ridge regression.\n",
    "  - At the end of GradDescentExample LinRegress you will see I try out Ridge regression (i.e. regression with some l2 regularisation)\n",
    "- Try using this on mtcars.csv and the three columns [[\"wt\",\"hp\",\"drat\"]] or if using diabetes pick bmi and bp\n",
    "- See if this improves the test score\n",
    "- Check with some other columns too"
   ]
  },
  {
   "cell_type": "code",
   "execution_count": 1,
   "id": "b23dd3ff",
   "metadata": {},
   "outputs": [],
   "source": [
    "import numpy as np\n",
    "import pandas as pd"
   ]
  },
  {
   "cell_type": "code",
   "execution_count": 2,
   "id": "e315e219",
   "metadata": {},
   "outputs": [],
   "source": [
    "from sklearn.datasets import load_diabetes\n",
    "diabetes = load_diabetes()\n",
    "df_diabetes = pd.DataFrame(diabetes.data, columns=diabetes.feature_names)"
   ]
  },
  {
   "cell_type": "code",
   "execution_count": 3,
   "id": "a6d21e0c",
   "metadata": {},
   "outputs": [
    {
     "name": "stdout",
     "output_type": "stream",
     "text": [
      "          bmi        bp\n",
      "0    0.061696  0.021872\n",
      "1   -0.051474 -0.026328\n",
      "2    0.044451 -0.005670\n",
      "3   -0.011595 -0.036656\n",
      "4   -0.036385  0.021872\n",
      "..        ...       ...\n",
      "437  0.019662  0.059744\n",
      "438 -0.015906 -0.067642\n",
      "439 -0.015906  0.017293\n",
      "440  0.039062  0.001215\n",
      "441 -0.073030 -0.081413\n",
      "\n",
      "[442 rows x 2 columns]\n"
     ]
    }
   ],
   "source": [
    "X = df_diabetes[[\"bmi\", \"bp\"]]\n",
    "y = pd.Series(diabetes.target)\n",
    "\n",
    "print(X)"
   ]
  },
  {
   "cell_type": "code",
   "execution_count": 4,
   "id": "db4a5d2c",
   "metadata": {},
   "outputs": [],
   "source": [
    "from sklearn.model_selection import train_test_split\n",
    "\n",
    "X_train, X_test, y_train, y_test = train_test_split(X, y, test_size=0.2, random_state=100)\n"
   ]
  },
  {
   "cell_type": "code",
   "execution_count": 5,
   "id": "0133ac47",
   "metadata": {},
   "outputs": [
    {
     "name": "stdout",
     "output_type": "stream",
     "text": [
      "Linear Regression MSE: 3262.1135547353438\n"
     ]
    }
   ],
   "source": [
    "from sklearn.linear_model import LinearRegression\n",
    "from sklearn.metrics import mean_squared_error\n",
    "\n",
    "lin_reg = LinearRegression()\n",
    "lin_reg.fit(X_train, y_train)\n",
    "\n",
    "y_pred = lin_reg.predict(X_test)\n",
    "mse_lin_reg = mean_squared_error(y_test, y_pred)\n",
    "print(f\"Linear Regression MSE: {mse_lin_reg}\")\n"
   ]
  },
  {
   "cell_type": "code",
   "execution_count": 6,
   "id": "4e68654e",
   "metadata": {},
   "outputs": [
    {
     "name": "stdout",
     "output_type": "stream",
     "text": [
      "Ridge Regression MSE: 3624.7933929933947\n"
     ]
    }
   ],
   "source": [
    "from sklearn.linear_model import Ridge\n",
    "\n",
    "ridge_reg = Ridge(alpha=1.0)\n",
    "ridge_reg.fit(X_train, y_train)\n",
    "\n",
    "y_pred_ridge = ridge_reg.predict(X_test)\n",
    "mse_ridge_reg = mean_squared_error(y_test, y_pred_ridge)\n",
    "print(f\"Ridge Regression MSE: {mse_ridge_reg}\")\n"
   ]
  }
 ],
 "metadata": {
  "kernelspec": {
   "display_name": "Python 3 (ipykernel)",
   "language": "python",
   "name": "python3"
  },
  "language_info": {
   "codemirror_mode": {
    "name": "ipython",
    "version": 3
   },
   "file_extension": ".py",
   "mimetype": "text/x-python",
   "name": "python",
   "nbconvert_exporter": "python",
   "pygments_lexer": "ipython3",
   "version": "3.9.18"
  }
 },
 "nbformat": 4,
 "nbformat_minor": 5
}
