{
 "cells": [
  {
   "cell_type": "markdown",
   "id": "80abfbc0-c007-4c99-a4d5-48a36c108241",
   "metadata": {},
   "source": [
    "## This notebook is going to use LogisticRegression to classify digits\n",
    "\n",
    "We are going to be using different levels of Regularisation and seeing what difference it makes\n",
    "\n",
    "Some sections will have parts that say #your code here, so guess what you have to do then!"
   ]
  },
  {
   "cell_type": "code",
   "execution_count": 1,
   "id": "6947c100-a551-4621-83ff-2df6dce10859",
   "metadata": {},
   "outputs": [],
   "source": [
    "from sklearn.datasets import load_digits"
   ]
  },
  {
   "cell_type": "code",
   "execution_count": 2,
   "id": "b8d4e7b6-6a5f-4b79-99d4-eb280b097d0a",
   "metadata": {},
   "outputs": [],
   "source": [
    "import numpy as np"
   ]
  },
  {
   "cell_type": "code",
   "execution_count": 3,
   "id": "9a4ac4c1-3904-43cd-ba31-af30935ca32c",
   "metadata": {},
   "outputs": [],
   "source": [
    "digits = load_digits()\n",
    "X = digits.data\n",
    "y = digits.target"
   ]
  },
  {
   "cell_type": "code",
   "execution_count": 4,
   "id": "ce3513ab-5139-4281-b048-88ed249a286b",
   "metadata": {},
   "outputs": [
    {
     "name": "stdout",
     "output_type": "stream",
     "text": [
      ".. _digits_dataset:\n",
      "\n",
      "Optical recognition of handwritten digits dataset\n",
      "--------------------------------------------------\n",
      "\n",
      "**Data Set Characteristics:**\n",
      "\n",
      ":Number of Instances: 1797\n",
      ":Number of Attributes: 64\n",
      ":Attribute Information: 8x8 image of integer pixels in the range 0..16.\n",
      ":Missing Attribute Values: None\n",
      ":Creator: E. Alpaydin (alpaydin '@' boun.edu.tr)\n",
      ":Date: July; 1998\n",
      "\n",
      "This is a copy of the test set of the UCI ML hand-written digits datasets\n",
      "https://archive.ics.uci.edu/ml/datasets/Optical+Recognition+of+Handwritten+Digits\n",
      "\n",
      "The data set contains images of hand-written digits: 10 classes where\n",
      "each class refers to a digit.\n",
      "\n",
      "Preprocessing programs made available by NIST were used to extract\n",
      "normalized bitmaps of handwritten digits from a preprinted form. From a\n",
      "total of 43 people, 30 contributed to the training set and different 13\n",
      "to the test set. 32x32 bitmaps are divided into nonoverlapping blocks of\n",
      "4x4 and the number of on pixels are counted in each block. This generates\n",
      "an input matrix of 8x8 where each element is an integer in the range\n",
      "0..16. This reduces dimensionality and gives invariance to small\n",
      "distortions.\n",
      "\n",
      "For info on NIST preprocessing routines, see M. D. Garris, J. L. Blue, G.\n",
      "T. Candela, D. L. Dimmick, J. Geist, P. J. Grother, S. A. Janet, and C.\n",
      "L. Wilson, NIST Form-Based Handprint Recognition System, NISTIR 5469,\n",
      "1994.\n",
      "\n",
      "|details-start|\n",
      "**References**\n",
      "|details-split|\n",
      "\n",
      "- C. Kaynak (1995) Methods of Combining Multiple Classifiers and Their\n",
      "  Applications to Handwritten Digit Recognition, MSc Thesis, Institute of\n",
      "  Graduate Studies in Science and Engineering, Bogazici University.\n",
      "- E. Alpaydin, C. Kaynak (1998) Cascading Classifiers, Kybernetika.\n",
      "- Ken Tang and Ponnuthurai N. Suganthan and Xi Yao and A. Kai Qin.\n",
      "  Linear dimensionalityreduction using relevance weighted LDA. School of\n",
      "  Electrical and Electronic Engineering Nanyang Technological University.\n",
      "  2005.\n",
      "- Claudio Gentile. A New Approximate Maximal Margin Classification\n",
      "  Algorithm. NIPS. 2000.\n",
      "\n",
      "|details-end|\n",
      "\n"
     ]
    }
   ],
   "source": [
    "print(digits.DESCR)"
   ]
  },
  {
   "cell_type": "code",
   "execution_count": 5,
   "id": "a031d978-6a70-4e8c-9435-c6fb2b5b829c",
   "metadata": {},
   "outputs": [
    {
     "data": {
      "text/plain": [
       "array([[ 0.,  0.,  5., ...,  0.,  0.,  0.],\n",
       "       [ 0.,  0.,  0., ..., 10.,  0.,  0.],\n",
       "       [ 0.,  0.,  0., ..., 16.,  9.,  0.],\n",
       "       ...,\n",
       "       [ 0.,  0.,  1., ...,  6.,  0.,  0.],\n",
       "       [ 0.,  0.,  2., ..., 12.,  0.,  0.],\n",
       "       [ 0.,  0., 10., ..., 12.,  1.,  0.]])"
      ]
     },
     "execution_count": 5,
     "metadata": {},
     "output_type": "execute_result"
    }
   ],
   "source": [
    "X"
   ]
  },
  {
   "cell_type": "code",
   "execution_count": 6,
   "id": "6a80faa5-9519-438b-8f00-667d86887371",
   "metadata": {},
   "outputs": [
    {
     "data": {
      "text/plain": [
       "array([0, 1, 2, ..., 8, 9, 8])"
      ]
     },
     "execution_count": 6,
     "metadata": {},
     "output_type": "execute_result"
    }
   ],
   "source": [
    "y"
   ]
  },
  {
   "cell_type": "code",
   "execution_count": 7,
   "id": "e4227127-110c-440a-8bd8-5adda782a86d",
   "metadata": {},
   "outputs": [
    {
     "data": {
      "text/plain": [
       "(1797, 64)"
      ]
     },
     "execution_count": 7,
     "metadata": {},
     "output_type": "execute_result"
    }
   ],
   "source": [
    "X.shape"
   ]
  },
  {
   "cell_type": "markdown",
   "id": "a60c89dc-34a8-4e05-aa3a-4aa5a90280b2",
   "metadata": {},
   "source": [
    "What does this mean? Put the answer below"
   ]
  },
  {
   "cell_type": "markdown",
   "id": "38804a97",
   "metadata": {},
   "source": [
    "This digits dataset contains 1797 images of digits each image is turned into a grid of 8 by 8 pixels. Instead of color, each pixel has a number from 0 to 16 that shows how dark it is. The dataset is like a big list where each item is an image's grid, flattened out into a line of 64 numbers. These numbers help a computer learn to recognize which digit each image shows, from 0 to 9."
   ]
  },
  {
   "cell_type": "markdown",
   "id": "967a36cb-d42f-4f87-8ecd-3354702f85b8",
   "metadata": {},
   "source": []
  },
  {
   "cell_type": "markdown",
   "id": "d8c87029",
   "metadata": {},
   "source": [
    "$\\alpha_2$"
   ]
  },
  {
   "cell_type": "markdown",
   "id": "1e835e26-8da1-48b4-91c7-3fd6a6dd5684",
   "metadata": {},
   "source": [
    "I want to plot something, you may need to import stuff"
   ]
  },
  {
   "cell_type": "code",
   "execution_count": 8,
   "id": "fdd5e7f9-dd67-43ef-b2ed-f9e69b9faf29",
   "metadata": {},
   "outputs": [],
   "source": [
    "import matplotlib.pyplot as plt\n"
   ]
  },
  {
   "cell_type": "code",
   "execution_count": 9,
   "id": "e7902cfb-a818-4e18-8bb7-032c602a971d",
   "metadata": {},
   "outputs": [
    {
     "data": {
      "image/png": "[encoded data removed]",
      "text/plain": [
       "<Figure size 800x800 with 100 Axes>"
      ]
     },
     "metadata": {},
     "output_type": "display_data"
    }
   ],
   "source": [
    "fig, axes = plt.subplots(10, 10, figsize=(8, 8))\n",
    "fig.subplots_adjust(hspace=0.1, wspace=0.1)\n",
    "\n",
    "for i, ax in enumerate(axes.flat):\n",
    "    ax.imshow(digits.images[i], cmap='binary', interpolation='nearest')\n",
    "    ax.text(0.05, 0.05, str(digits.target[i]),\n",
    "            transform=ax.transAxes, color='green')\n",
    "    ax.set_xticks([])\n",
    "    ax.set_yticks([])"
   ]
  },
  {
   "cell_type": "markdown",
   "id": "813ee141-f283-41a7-b283-85cfb53edc05",
   "metadata": {},
   "source": [
    "This shows us what we are dealing with, 8x8 images in greyscale\n",
    "\n",
    "Import the model you'll be using and the splitting thing we use"
   ]
  },
  {
   "cell_type": "code",
   "execution_count": 10,
   "id": "329efd78-430b-4ca7-8a93-0b379d30d2b6",
   "metadata": {},
   "outputs": [],
   "source": [
    "from sklearn.linear_model import LogisticRegression\n",
    "from sklearn.model_selection import train_test_split"
   ]
  },
  {
   "cell_type": "markdown",
   "id": "52e25da4-5390-4537-85dc-459e5f3c9fc7",
   "metadata": {},
   "source": [
    "Now split the set into training and test sets"
   ]
  },
  {
   "cell_type": "code",
   "execution_count": 11,
   "id": "72b43a5a-476b-4f61-a1ce-f1d5bf9e620f",
   "metadata": {},
   "outputs": [],
   "source": [
    "X_train, X_test, y_train, y_test = train_test_split(X, y, test_size=0.2, random_state=1138)"
   ]
  },
  {
   "cell_type": "code",
   "execution_count": 12,
   "id": "ea43f8f1-630b-45d6-9aca-fbc7c81a7a1c",
   "metadata": {},
   "outputs": [
    {
     "data": {
      "text/plain": [
       "(1437, 64)"
      ]
     },
     "execution_count": 12,
     "metadata": {},
     "output_type": "execute_result"
    }
   ],
   "source": [
    "X_train.shape"
   ]
  },
  {
   "cell_type": "code",
   "execution_count": 13,
   "id": "0876d90c-ec89-4602-8301-0a2a18cd5b95",
   "metadata": {},
   "outputs": [
    {
     "data": {
      "text/plain": [
       "(360, 64)"
      ]
     },
     "execution_count": 13,
     "metadata": {},
     "output_type": "execute_result"
    }
   ],
   "source": [
    "X_test.shape"
   ]
  },
  {
   "cell_type": "code",
   "execution_count": 14,
   "id": "b374a966-36b2-4604-ad18-835c2bedea4e",
   "metadata": {},
   "outputs": [
    {
     "data": {
      "text/plain": [
       "(1437,)"
      ]
     },
     "execution_count": 14,
     "metadata": {},
     "output_type": "execute_result"
    }
   ],
   "source": [
    "y_train.shape"
   ]
  },
  {
   "cell_type": "markdown",
   "id": "40a50cc3-89c6-4199-a83d-fb73ec08ddc9",
   "metadata": {},
   "source": [
    "Now make a model without any regularisation, fit it and print the scores for both training and test data"
   ]
  },
  {
   "cell_type": "code",
   "execution_count": 36,
   "id": "f1025042-5914-4251-9469-5a359b15c51c",
   "metadata": {},
   "outputs": [
    {
     "name": "stdout",
     "output_type": "stream",
     "text": [
      "Intercept: [ 0.00626401 -0.19007875  0.00082282 -0.00917809  0.09174958 -0.00592169\n",
      "  0.00273487  0.02131225  0.11505961 -0.0327646 ]\n",
      "Coefficients: [[ 0.00000000e+00  4.05988605e-03 -1.09056574e-02  1.91938042e-01\n",
      "   6.16865225e-02 -1.09864001e-01 -1.09934605e-01 -1.25715760e-02\n",
      "  -4.18931644e-05  1.78697008e-02 -8.31772545e-02  1.21555596e-01\n",
      "   4.26391854e-02  8.35664282e-02 -3.24423790e-02 -1.44373077e-02\n",
      "  -2.82724304e-03  3.56656936e-02  7.27084847e-02 -3.11086683e-02\n",
      "  -2.72427954e-01  1.47197483e-01  8.88141076e-02 -4.82145181e-03\n",
      "  -1.41149908e-03  9.86345927e-02  8.66823431e-02 -8.40487332e-02\n",
      "  -3.89006507e-01  2.73028086e-02  1.00667295e-01 -1.54407642e-04\n",
      "   0.00000000e+00  1.27878462e-01  8.21633309e-02 -2.02025337e-01\n",
      "  -3.76133094e-01  5.59088100e-02  8.70202101e-02  0.00000000e+00\n",
      "  -3.58156179e-04 -1.54148508e-03  2.11677612e-01 -7.85782851e-02\n",
      "  -8.59449914e-02  7.79782630e-02  4.79860298e-02 -1.58197513e-04\n",
      "  -1.22743175e-03 -9.00163495e-02  6.77365593e-02  4.12078108e-03\n",
      "   1.19019420e-01  4.25469528e-02 -1.82340772e-02 -8.33618955e-03\n",
      "  -4.45403925e-06  3.09308667e-04 -5.06037450e-02  1.30852986e-01\n",
      "  -2.33204170e-02 -1.49571515e-02 -4.09373885e-02 -2.00424502e-02]\n",
      " [ 0.00000000e+00 -1.63365641e-02 -1.46709594e-01  1.61707380e-01\n",
      "  -7.10062422e-01  4.31546257e-01  4.36008816e-02 -4.07268249e-03\n",
      "  -1.16609062e-03 -4.53758411e-01 -3.10869574e-01 -3.38991922e-01\n",
      "   2.73543330e-01 -8.46994750e-02 -3.20146253e-01 -4.87883858e-03\n",
      "   6.42407679e-02  3.54978644e-01 -9.16068063e-02  6.04989681e-01\n",
      "   1.15621245e-01 -6.50537799e-02 -6.00313937e-02 -7.86090454e-04\n",
      "   3.58489866e-03 -1.40244306e-01  3.87231082e-02  9.13861404e-02\n",
      "   2.15986668e-01 -2.09651095e-04  4.28536513e-02 -1.27935648e-05\n",
      "   0.00000000e+00 -1.75045186e-02  4.92286243e-02 -1.54602172e-01\n",
      "   1.25272211e-01  1.38726148e-01 -1.41965824e-01  0.00000000e+00\n",
      "  -7.09773323e-05 -1.29030498e-01  3.34460811e-02  2.88347847e-01\n",
      "  -6.22207861e-02 -8.42924937e-02 -4.02267204e-01 -5.00250441e-04\n",
      "  -1.71118446e-03 -8.74199875e-02 -8.67334107e-02  1.45876922e-01\n",
      "   2.74964979e-01 -6.95745327e-02 -2.76457974e-01  1.57733153e-01\n",
      "  -5.55202584e-04  3.00965496e-02 -2.10342282e-01  6.58081508e-02\n",
      "   8.07226810e-02  2.10318676e-01  8.52095872e-02  2.22970663e-01]\n",
      " [ 0.00000000e+00  2.49713538e-02  1.30873380e-03  1.04767623e-01\n",
      "   9.46450783e-02 -1.39880058e-01 -1.34986924e-02 -7.06259100e-04\n",
      "  -2.42074102e-02  1.26233193e-01  1.74833852e-02 -2.55550983e-01\n",
      "   3.06649927e-01 -4.69202675e-02  2.49191559e-02 -8.59378758e-04\n",
      "  -1.19082263e-02 -8.39241511e-02 -6.30975456e-02 -2.81383434e-01\n",
      "   2.59783917e-01  5.98213292e-02  2.07986689e-01 -2.53719915e-04\n",
      "  -1.39745266e-05 -1.35464904e-01 -4.62533608e-01 -3.84455152e-01\n",
      "  -2.39805129e-01 -4.65724559e-02  4.89747667e-02 -7.97779640e-06\n",
      "   0.00000000e+00 -1.00793702e-01 -3.24005816e-01 -8.20585672e-02\n",
      "  -3.76671648e-02 -1.81491552e-01 -2.93960298e-01  0.00000000e+00\n",
      "  -6.38168308e-05  9.73814532e-02  7.07148125e-02  3.81318834e-01\n",
      "  -2.86112283e-01 -3.00690275e-01 -1.32157129e-01  5.15178105e-03\n",
      "   2.31228309e-03  1.04885415e-01  9.55272388e-02  4.69632175e-01\n",
      "   3.22594099e-01  2.50964026e-01  1.81248448e-01  3.69282885e-02\n",
      "   7.84088289e-04  2.99258495e-02  1.42942623e-01  7.06247619e-02\n",
      "   9.91352044e-02  1.79480049e-01  3.69201803e-01  1.39349269e-01]\n",
      " [ 0.00000000e+00  1.61626974e-01 -6.43270184e-02  1.44068863e-02\n",
      "   3.10581935e-01  1.19106812e-01 -4.97514825e-02  2.40329792e-04\n",
      "  -1.45686115e-02  1.30740411e-02  1.65599291e-01  4.42241836e-02\n",
      "   1.41802221e-01  2.48208319e-01  1.78617309e-01 -6.40992733e-03\n",
      "  -6.23144762e-03 -3.61335245e-02 -3.55860121e-01 -3.63884939e-01\n",
      "   1.40001859e-01 -2.57530585e-01 -1.02398133e-02 -3.04056549e-04\n",
      "  -7.98331252e-06 -5.99264786e-02 -3.98835105e-01 -1.64134243e-01\n",
      "   2.44814955e-01 -3.48232100e-01 -3.54514376e-01 -7.98410728e-06\n",
      "   0.00000000e+00 -5.55617381e-02 -1.61207380e-01  7.38447878e-02\n",
      "   6.20516645e-02 -6.01479557e-02 -1.91709270e-02  0.00000000e+00\n",
      "  -6.38044504e-05 -3.33926210e-02 -2.12611049e-01 -4.48904997e-01\n",
      "   1.44284395e-01  1.92727981e-01  1.72225598e-01 -5.38861471e-03\n",
      "  -5.39043458e-05 -8.59512512e-02 -2.55974795e-02 -2.16542275e-01\n",
      "   6.24323863e-02  3.43511770e-01  3.24376503e-01 -1.08325266e-01\n",
      "  -4.66586725e-06  1.16799229e-01  2.13261473e-01  1.84711948e-01\n",
      "  -4.99355971e-02  4.61203293e-02  4.69271143e-02 -2.37651248e-01]\n",
      " [ 0.00000000e+00 -2.05725562e-02 -9.82387665e-02 -3.93113208e-01\n",
      "  -1.72001071e-01 -2.44268941e-01 -2.57812027e-01  5.10095705e-02\n",
      "  -1.00334909e-04  9.49319358e-02 -2.02984755e-01 -1.45101333e-01\n",
      "  -4.76580945e-01 -1.61354914e-01 -1.73521392e-01  6.51273230e-02\n",
      "  -1.09311852e-03  2.68377922e-01  1.94509676e-01  1.55023441e-01\n",
      "  -1.12487867e-02  1.22981579e-01  3.43799270e-04  4.65159952e-02\n",
      "   2.82008454e-02  1.90635545e-02  3.28969620e-01  1.73913378e-01\n",
      "   7.94226595e-02  7.65132642e-02  4.35449312e-01  7.47406108e-04\n",
      "   0.00000000e+00  1.60935262e-01  1.73157991e-01 -1.41246378e-01\n",
      "   3.44080005e-01  1.84552805e-01  4.24287741e-01  0.00000000e+00\n",
      "   1.03478400e-03  5.57934175e-01  8.86035872e-03  5.98527568e-01\n",
      "   3.15925131e-01  1.14140931e-01  1.61734857e-01 -4.52178370e-04\n",
      "   1.94084937e-03  2.30396599e-01 -1.83722922e-01  8.59117545e-02\n",
      "   1.78428380e-02 -2.83312942e-01 -2.82661946e-01 -7.25070169e-03\n",
      "  -5.87402123e-06 -1.01650908e-01 -6.72344132e-02 -3.31981042e-01\n",
      "  -1.53062328e-01 -1.30994501e-01 -5.64730879e-02 -2.58680602e-03]\n",
      " [ 0.00000000e+00  1.05034282e-01  3.68626863e-01 -1.39429928e-01\n",
      "   1.76634101e-01  3.05873201e-01  4.28452224e-01  1.72135119e-02\n",
      "  -5.13588392e-05  1.25224406e-02  3.11415548e-01  1.69437495e-01\n",
      "  -4.41200537e-02 -1.05072074e-01 -4.76058759e-02  1.39267685e-02\n",
      "  -8.71359395e-04 -4.09249224e-02  6.71865609e-02  4.93348188e-02\n",
      "  -4.68150912e-01 -5.04982833e-01 -4.67778367e-01 -7.34446106e-03\n",
      "  -4.86563816e-04  1.67811194e-01  1.93997238e-01 -6.35360532e-02\n",
      "   2.31233626e-01 -5.10675730e-02 -2.27504576e-01 -1.01259099e-05\n",
      "   0.00000000e+00 -3.39036598e-02  2.61389280e-01 -1.50163077e-01\n",
      "  -8.83228358e-02  7.18764666e-02  8.70556499e-02  0.00000000e+00\n",
      "  -6.39741458e-05 -2.00741538e-01 -2.98127850e-01 -3.35928625e-01\n",
      "  -4.65690661e-02 -1.52567803e-02  1.73006100e-02 -1.63794622e-04\n",
      "  -5.29623339e-05  6.02982603e-02  2.10116273e-02 -1.74182963e-01\n",
      "   1.82408025e-02 -4.67785618e-02 -9.94374820e-02 -2.07879523e-03\n",
      "  -4.27653191e-06  1.00538129e-01  3.83277978e-01  1.06130856e-01\n",
      "  -8.07921592e-02 -3.98234361e-02 -1.85435908e-01 -6.43381786e-03]\n",
      " [ 0.00000000e+00 -1.08860137e-02 -1.69379659e-01 -7.84111446e-02\n",
      "  -8.02834143e-02 -2.34596216e-01 -6.91281393e-02 -6.18649253e-04\n",
      "  -6.41830052e-05 -1.62809801e-01 -2.03349315e-01  2.36936589e-02\n",
      "  -2.94221053e-01 -6.16128472e-03  1.66303601e-02 -5.62026105e-04\n",
      "  -2.90788175e-03 -1.22746024e-01  1.55272899e-01 -1.65544649e-03\n",
      "  -2.59838861e-01 -3.48705216e-01 -8.71617878e-02 -3.49953027e-04\n",
      "  -1.44758291e-03  1.61957681e-01  6.91255085e-02  1.52238901e-01\n",
      "  -7.09994612e-02 -2.15578688e-03 -1.83975356e-01 -5.85876516e-05\n",
      "   0.00000000e+00  2.12286218e-01  1.35516197e-01  2.12041646e-01\n",
      "   2.38842286e-02 -7.23342888e-02  1.59708852e-01  0.00000000e+00\n",
      "  -2.21058510e-04 -1.32575041e-01  4.79868038e-01  1.29981296e-01\n",
      "   8.94512216e-02  9.20206202e-02  1.71530555e-01  1.92499312e-03\n",
      "  -4.60499549e-04 -1.12761608e-01  1.58736973e-01  2.18471857e-02\n",
      "  -3.13223066e-02  2.39804303e-01  7.54832108e-02 -8.65440022e-02\n",
      "  -4.08561274e-06 -9.29607321e-03 -1.56055697e-01 -1.97774564e-01\n",
      "   3.53544542e-02  1.05204879e-01  3.85379103e-02 -4.08946059e-02]\n",
      " [ 0.00000000e+00  2.86691537e-02  1.48657583e-01  8.13968043e-02\n",
      "   1.11386831e-01  4.89680005e-02  1.59421679e-01  6.72750869e-02\n",
      "  -4.05047736e-05  1.03181506e-01  2.26260445e-01  8.58115062e-02\n",
      "   4.86214757e-01 -1.15874026e-01  5.30377871e-02  4.57132156e-02\n",
      "  -2.05250542e-05 -2.27546758e-01 -2.98530315e-01 -1.68616404e-01\n",
      "   3.53004232e-02  1.24077202e-01  1.81847259e-01  9.85799957e-03\n",
      "  -1.02071424e-05 -1.97616549e-01  5.26108928e-02 -3.00978854e-01\n",
      "   9.42686597e-02  1.58580999e-01  1.67260997e-01 -1.68303717e-05\n",
      "   0.00000000e+00  1.80245248e-01  9.15376303e-03 -9.33166547e-02\n",
      "   1.42837693e-01  2.04083010e-01  2.85912461e-01  0.00000000e+00\n",
      "  -6.38521253e-05 -5.06194189e-02 -1.16551534e-02  1.17752555e-01\n",
      "   1.50965402e-01 -3.33583506e-02  3.03081607e-02 -1.56254617e-04\n",
      "  -6.36706768e-05 -5.81398513e-02 -7.30282619e-02  1.48408587e-01\n",
      "  -2.07245119e-01 -4.15430841e-01 -9.32166029e-02 -1.18890200e-03\n",
      "  -7.61967748e-06  2.49452857e-02  9.49348642e-03 -2.61623980e-01\n",
      "  -2.14685794e-01 -3.24804617e-01 -8.92271993e-02 -2.60705200e-03]\n",
      " [ 0.00000000e+00 -1.50204579e-01  5.50516070e-02 -2.40028461e-01\n",
      "   1.70664568e-01 -7.78203708e-02 -1.94890016e-01 -2.80976373e-03\n",
      "   4.03273543e-02  1.06428469e-02  6.14887028e-02  1.33234976e-01\n",
      "  -3.06880005e-01  1.37690051e-01  1.83393975e-03 -2.07869820e-03\n",
      "  -3.56901738e-02 -1.03581368e-01  2.08646124e-01 -7.39239987e-03\n",
      "   1.94511875e-01  2.44154782e-01  1.03799863e-01 -4.56645049e-04\n",
      "  -2.70697455e-02  6.14027653e-02 -1.49950790e-01  3.02934060e-01\n",
      "  -1.74471870e-01 -4.58295641e-02 -1.80545903e-02 -1.04119566e-05\n",
      "   0.00000000e+00 -1.21539145e-01 -1.55827430e-01  2.90639514e-01\n",
      "   4.73126805e-02 -2.11230403e-01 -4.83342504e-01  0.00000000e+00\n",
      "  -6.53251952e-05 -1.62970363e-02  2.28141013e-01  8.26002720e-02\n",
      "   1.11522897e-01  9.49203932e-02  5.01347761e-02 -2.93447775e-04\n",
      "  -6.30884159e-04  1.51598183e-02  1.69103784e-01 -2.92203976e-01\n",
      "  -2.72469120e-01  1.01150266e-01  1.21501674e-01 -1.99239817e-03\n",
      "  -1.93696238e-04 -9.16623717e-02 -3.04800735e-01  1.15624390e-01\n",
      "   1.55083440e-01  3.42602829e-02 -1.47164203e-01 -7.10339136e-02]\n",
      " [ 0.00000000e+00 -1.26361936e-01 -8.40840906e-02  2.96766007e-01\n",
      "   3.67478717e-02 -9.90646837e-02  6.35401778e-02 -1.14959569e-01\n",
      "  -8.69673190e-05  2.38112547e-01  1.81335259e-02  1.61686821e-01\n",
      "  -1.29047363e-01  5.06172425e-02  2.98677348e-01 -9.55411304e-02\n",
      "  -2.69079235e-03 -4.41655115e-02  1.10771043e-01  4.46933507e-02\n",
      "   2.66447194e-01  4.78040037e-01  4.24196435e-02 -4.20576169e-02\n",
      "  -1.33818780e-03  2.43824502e-02  2.41210793e-01  2.76680556e-01\n",
      "   8.55639906e-03  2.31670059e-01 -1.11571235e-02 -4.68287108e-04\n",
      "   0.00000000e+00 -3.52042427e-01 -6.95685610e-02  2.46886239e-01\n",
      "  -2.43315387e-01 -1.29943041e-01 -1.05545361e-01  0.00000000e+00\n",
      "  -6.38192347e-05 -9.11179897e-02 -5.10313863e-01 -7.35116466e-01\n",
      "  -3.31301920e-01 -1.38190289e-01 -1.16796254e-01  3.59638811e-05\n",
      "  -5.25951912e-05  2.35489544e-02 -1.43034108e-01 -1.92868191e-01\n",
      "  -3.04057979e-01 -1.62880440e-01  6.73982460e-02  2.10548133e-02\n",
      "  -4.21371717e-06 -1.00004998e-01  4.00613120e-02  1.17626493e-01\n",
      "   1.51500517e-01 -6.48045101e-02 -2.06386276e-02  1.89299615e-02]]\n",
      "Training score: 1.0\n",
      "Test score: 0.9777777777777777\n"
     ]
    }
   ],
   "source": [
    "model_no_reg = LogisticRegression(max_iter=10000)\n",
    "\n",
    "model_no_reg.fit(X_train, y_train)\n",
    "\n",
    "print(\"Intercept:\", model_no_reg.intercept_)\n",
    "print(\"Coefficients:\", model_no_reg.coef_)\n",
    "\n",
    "training_score = model_no_reg.score(X_train, y_train)\n",
    "test_score = model_no_reg.score(X_test, y_test)\n",
    "\n",
    "print(f\"Training score: {training_score}\")\n",
    "print(f\"Test score: {test_score}\")\n"
   ]
  },
  {
   "cell_type": "markdown",
   "id": "6bdbae1f-d347-47fa-ab60-16d3a2bf502f",
   "metadata": {},
   "source": [
    "I got scores of 1.0 for the training set and 0.963888 for the test set, your numbers may vary but this suggests overfitting to me\n",
    "\n",
    "My lecturer told me, you can help prevent overfitting by using regularisation! So you should do that too\n",
    "\n",
    "Try it with the default regularisation parameter, change max_iter if needed!"
   ]
  },
  {
   "cell_type": "code",
   "execution_count": 16,
   "id": "c41a97ba-5d68-4907-acee-d2213bc2281e",
   "metadata": {},
   "outputs": [
    {
     "name": "stdout",
     "output_type": "stream",
     "text": [
      "Training score with regularization: 1.0\n",
      "Test score with regularization: 0.9777777777777777\n"
     ]
    }
   ],
   "source": [
    "model_with_reg = LogisticRegression(max_iter=10000)\n",
    "\n",
    "model_with_reg.fit(X_train, y_train)\n",
    "\n",
    "training_score_reg = model_with_reg.score(X_train, y_train)\n",
    "test_score_reg = model_with_reg.score(X_test, y_test)\n",
    "\n",
    "print(f\"Training score with regularization: {training_score_reg}\")\n",
    "print(f\"Test score with regularization: {test_score_reg}\")\n"
   ]
  },
  {
   "cell_type": "markdown",
   "id": "dbf7eb21-6bd7-4958-93e1-b6e810be25a0",
   "metadata": {},
   "source": [
    "I got scores of 1.0 and 0.975, again your numbers may vary. So better in the test set\n",
    "\n",
    "But my lecturer also told me, you should not be using the test set to make decisions, let's try again using cross_val_score\n",
    "\n",
    "First import it"
   ]
  },
  {
   "cell_type": "code",
   "execution_count": 17,
   "id": "f099ae90-ceb4-4590-b26e-4019d2b1f055",
   "metadata": {},
   "outputs": [],
   "source": [
    "from sklearn.linear_model import LogisticRegression"
   ]
  },
  {
   "cell_type": "markdown",
   "id": "5b604bb3-ae82-4c64-8506-ccc8ab3a22b8",
   "metadata": {},
   "source": [
    "Now try the one with no regularisation first"
   ]
  },
  {
   "cell_type": "code",
   "execution_count": 26,
   "id": "a90c957c-67b7-4104-8c2a-e8405ff6185c",
   "metadata": {},
   "outputs": [
    {
     "name": "stdout",
     "output_type": "stream",
     "text": [
      "Average CV score without regularization: 0.9478126209833526\n"
     ]
    }
   ],
   "source": [
    "from sklearn.model_selection import  cross_val_score\n",
    "\n",
    "\n",
    "scores_no_reg = cross_val_score(model_no_reg, X_train, y_train)\n",
    "print(\"Average CV score without regularization:\", np.mean(scores_no_reg))\n"
   ]
  },
  {
   "cell_type": "markdown",
   "id": "c4011f6c-3094-4438-80fe-962d21753670",
   "metadata": {},
   "source": [
    "I got a cross val average of 0.9464 again, your numbers may vary. If you want the same numbers as me, go back to your train split and use random_state=1138\n",
    "\n",
    "Now do a cross valscore with default regularisation"
   ]
  },
  {
   "cell_type": "code",
   "execution_count": 27,
   "id": "35d4caa5-8468-45ae-9587-188e7d2f5183",
   "metadata": {},
   "outputs": [
    {
     "data": {
      "text/html": [
       "<style>#sk-container-id-1 {\n",
       "  /* Definition of color scheme common for light and dark mode */\n",
       "  --sklearn-color-text: black;\n",
       "  --sklearn-color-line: gray;\n",
       "  /* Definition of color scheme for unfitted estimators */\n",
       "  --sklearn-color-unfitted-level-0: #fff5e6;\n",
       "  --sklearn-color-unfitted-level-1: #f6e4d2;\n",
       "  --sklearn-color-unfitted-level-2: #ffe0b3;\n",
       "  --sklearn-color-unfitted-level-3: chocolate;\n",
       "  /* Definition of color scheme for fitted estimators */\n",
       "  --sklearn-color-fitted-level-0: #f0f8ff;\n",
       "  --sklearn-color-fitted-level-1: #d4ebff;\n",
       "  --sklearn-color-fitted-level-2: #b3dbfd;\n",
       "  --sklearn-color-fitted-level-3: cornflowerblue;\n",
       "\n",
       "  /* Specific color for light theme */\n",
       "  --sklearn-color-text-on-default-background: var(--sg-text-color, var(--theme-code-foreground, var(--jp-content-font-color1, black)));\n",
       "  --sklearn-color-background: var(--sg-background-color, var(--theme-background, var(--jp-layout-color0, white)));\n",
       "  --sklearn-color-border-box: var(--sg-text-color, var(--theme-code-foreground, var(--jp-content-font-color1, black)));\n",
       "  --sklearn-color-icon: #696969;\n",
       "\n",
       "  @media (prefers-color-scheme: dark) {\n",
       "    /* Redefinition of color scheme for dark theme */\n",
       "    --sklearn-color-text-on-default-background: var(--sg-text-color, var(--theme-code-foreground, var(--jp-content-font-color1, white)));\n",
       "    --sklearn-color-background: var(--sg-background-color, var(--theme-background, var(--jp-layout-color0, #111)));\n",
       "    --sklearn-color-border-box: var(--sg-text-color, var(--theme-code-foreground, var(--jp-content-font-color1, white)));\n",
       "    --sklearn-color-icon: #878787;\n",
       "  }\n",
       "}\n",
       "\n",
       "#sk-container-id-1 {\n",
       "  color: var(--sklearn-color-text);\n",
       "}\n",
       "\n",
       "#sk-container-id-1 pre {\n",
       "  padding: 0;\n",
       "}\n",
       "\n",
       "#sk-container-id-1 input.sk-hidden--visually {\n",
       "  border: 0;\n",
       "  clip: rect(1px 1px 1px 1px);\n",
       "  clip: rect(1px, 1px, 1px, 1px);\n",
       "  height: 1px;\n",
       "  margin: -1px;\n",
       "  overflow: hidden;\n",
       "  padding: 0;\n",
       "  position: absolute;\n",
       "  width: 1px;\n",
       "}\n",
       "\n",
       "#sk-container-id-1 div.sk-dashed-wrapped {\n",
       "  border: 1px dashed var(--sklearn-color-line);\n",
       "  margin: 0 0.4em 0.5em 0.4em;\n",
       "  box-sizing: border-box;\n",
       "  padding-bottom: 0.4em;\n",
       "  background-color: var(--sklearn-color-background);\n",
       "}\n",
       "\n",
       "#sk-container-id-1 div.sk-container {\n",
       "  /* jupyter's `normalize.less` sets `[hidden] { display: none; }`\n",
       "     but bootstrap.min.css set `[hidden] { display: none !important; }`\n",
       "     so we also need the `!important` here to be able to override the\n",
       "     default hidden behavior on the sphinx rendered scikit-learn.org.\n",
       "     See: https://github.com/scikit-learn/scikit-learn/issues/21755 */\n",
       "  display: inline-block !important;\n",
       "  position: relative;\n",
       "}\n",
       "\n",
       "#sk-container-id-1 div.sk-text-repr-fallback {\n",
       "  display: none;\n",
       "}\n",
       "\n",
       "div.sk-parallel-item,\n",
       "div.sk-serial,\n",
       "div.sk-item {\n",
       "  /* draw centered vertical line to link estimators */\n",
       "  background-image: linear-gradient(var(--sklearn-color-text-on-default-background), var(--sklearn-color-text-on-default-background));\n",
       "  background-size: 2px 100%;\n",
       "  background-repeat: no-repeat;\n",
       "  background-position: center center;\n",
       "}\n",
       "\n",
       "/* Parallel-specific style estimator block */\n",
       "\n",
       "#sk-container-id-1 div.sk-parallel-item::after {\n",
       "  content: \"\";\n",
       "  width: 100%;\n",
       "  border-bottom: 2px solid var(--sklearn-color-text-on-default-background);\n",
       "  flex-grow: 1;\n",
       "}\n",
       "\n",
       "#sk-container-id-1 div.sk-parallel {\n",
       "  display: flex;\n",
       "  align-items: stretch;\n",
       "  justify-content: center;\n",
       "  background-color: var(--sklearn-color-background);\n",
       "  position: relative;\n",
       "}\n",
       "\n",
       "#sk-container-id-1 div.sk-parallel-item {\n",
       "  display: flex;\n",
       "  flex-direction: column;\n",
       "}\n",
       "\n",
       "#sk-container-id-1 div.sk-parallel-item:first-child::after {\n",
       "  align-self: flex-end;\n",
       "  width: 50%;\n",
       "}\n",
       "\n",
       "#sk-container-id-1 div.sk-parallel-item:last-child::after {\n",
       "  align-self: flex-start;\n",
       "  width: 50%;\n",
       "}\n",
       "\n",
       "#sk-container-id-1 div.sk-parallel-item:only-child::after {\n",
       "  width: 0;\n",
       "}\n",
       "\n",
       "/* Serial-specific style estimator block */\n",
       "\n",
       "#sk-container-id-1 div.sk-serial {\n",
       "  display: flex;\n",
       "  flex-direction: column;\n",
       "  align-items: center;\n",
       "  background-color: var(--sklearn-color-background);\n",
       "  padding-right: 1em;\n",
       "  padding-left: 1em;\n",
       "}\n",
       "\n",
       "\n",
       "/* Toggleable style: style used for estimator/Pipeline/ColumnTransformer box that is\n",
       "clickable and can be expanded/collapsed.\n",
       "- Pipeline and ColumnTransformer use this feature and define the default style\n",
       "- Estimators will overwrite some part of the style using the `sk-estimator` class\n",
       "*/\n",
       "\n",
       "/* Pipeline and ColumnTransformer style (default) */\n",
       "\n",
       "#sk-container-id-1 div.sk-toggleable {\n",
       "  /* Default theme specific background. It is overwritten whether we have a\n",
       "  specific estimator or a Pipeline/ColumnTransformer */\n",
       "  background-color: var(--sklearn-color-background);\n",
       "}\n",
       "\n",
       "/* Toggleable label */\n",
       "#sk-container-id-1 label.sk-toggleable__label {\n",
       "  cursor: pointer;\n",
       "  display: block;\n",
       "  width: 100%;\n",
       "  margin-bottom: 0;\n",
       "  padding: 0.5em;\n",
       "  box-sizing: border-box;\n",
       "  text-align: center;\n",
       "}\n",
       "\n",
       "#sk-container-id-1 label.sk-toggleable__label-arrow:before {\n",
       "  /* Arrow on the left of the label */\n",
       "  content: \"▸\";\n",
       "  float: left;\n",
       "  margin-right: 0.25em;\n",
       "  color: var(--sklearn-color-icon);\n",
       "}\n",
       "\n",
       "#sk-container-id-1 label.sk-toggleable__label-arrow:hover:before {\n",
       "  color: var(--sklearn-color-text);\n",
       "}\n",
       "\n",
       "/* Toggleable content - dropdown */\n",
       "\n",
       "#sk-container-id-1 div.sk-toggleable__content {\n",
       "  max-height: 0;\n",
       "  max-width: 0;\n",
       "  overflow: hidden;\n",
       "  text-align: left;\n",
       "  /* unfitted */\n",
       "  background-color: var(--sklearn-color-unfitted-level-0);\n",
       "}\n",
       "\n",
       "#sk-container-id-1 div.sk-toggleable__content.fitted {\n",
       "  /* fitted */\n",
       "  background-color: var(--sklearn-color-fitted-level-0);\n",
       "}\n",
       "\n",
       "#sk-container-id-1 div.sk-toggleable__content pre {\n",
       "  margin: 0.2em;\n",
       "  border-radius: 0.25em;\n",
       "  color: var(--sklearn-color-text);\n",
       "  /* unfitted */\n",
       "  background-color: var(--sklearn-color-unfitted-level-0);\n",
       "}\n",
       "\n",
       "#sk-container-id-1 div.sk-toggleable__content.fitted pre {\n",
       "  /* unfitted */\n",
       "  background-color: var(--sklearn-color-fitted-level-0);\n",
       "}\n",
       "\n",
       "#sk-container-id-1 input.sk-toggleable__control:checked~div.sk-toggleable__content {\n",
       "  /* Expand drop-down */\n",
       "  max-height: 200px;\n",
       "  max-width: 100%;\n",
       "  overflow: auto;\n",
       "}\n",
       "\n",
       "#sk-container-id-1 input.sk-toggleable__control:checked~label.sk-toggleable__label-arrow:before {\n",
       "  content: \"▾\";\n",
       "}\n",
       "\n",
       "/* Pipeline/ColumnTransformer-specific style */\n",
       "\n",
       "#sk-container-id-1 div.sk-label input.sk-toggleable__control:checked~label.sk-toggleable__label {\n",
       "  color: var(--sklearn-color-text);\n",
       "  background-color: var(--sklearn-color-unfitted-level-2);\n",
       "}\n",
       "\n",
       "#sk-container-id-1 div.sk-label.fitted input.sk-toggleable__control:checked~label.sk-toggleable__label {\n",
       "  background-color: var(--sklearn-color-fitted-level-2);\n",
       "}\n",
       "\n",
       "/* Estimator-specific style */\n",
       "\n",
       "/* Colorize estimator box */\n",
       "#sk-container-id-1 div.sk-estimator input.sk-toggleable__control:checked~label.sk-toggleable__label {\n",
       "  /* unfitted */\n",
       "  background-color: var(--sklearn-color-unfitted-level-2);\n",
       "}\n",
       "\n",
       "#sk-container-id-1 div.sk-estimator.fitted input.sk-toggleable__control:checked~label.sk-toggleable__label {\n",
       "  /* fitted */\n",
       "  background-color: var(--sklearn-color-fitted-level-2);\n",
       "}\n",
       "\n",
       "#sk-container-id-1 div.sk-label label.sk-toggleable__label,\n",
       "#sk-container-id-1 div.sk-label label {\n",
       "  /* The background is the default theme color */\n",
       "  color: var(--sklearn-color-text-on-default-background);\n",
       "}\n",
       "\n",
       "/* On hover, darken the color of the background */\n",
       "#sk-container-id-1 div.sk-label:hover label.sk-toggleable__label {\n",
       "  color: var(--sklearn-color-text);\n",
       "  background-color: var(--sklearn-color-unfitted-level-2);\n",
       "}\n",
       "\n",
       "/* Label box, darken color on hover, fitted */\n",
       "#sk-container-id-1 div.sk-label.fitted:hover label.sk-toggleable__label.fitted {\n",
       "  color: var(--sklearn-color-text);\n",
       "  background-color: var(--sklearn-color-fitted-level-2);\n",
       "}\n",
       "\n",
       "/* Estimator label */\n",
       "\n",
       "#sk-container-id-1 div.sk-label label {\n",
       "  font-family: monospace;\n",
       "  font-weight: bold;\n",
       "  display: inline-block;\n",
       "  line-height: 1.2em;\n",
       "}\n",
       "\n",
       "#sk-container-id-1 div.sk-label-container {\n",
       "  text-align: center;\n",
       "}\n",
       "\n",
       "/* Estimator-specific */\n",
       "#sk-container-id-1 div.sk-estimator {\n",
       "  font-family: monospace;\n",
       "  border: 1px dotted var(--sklearn-color-border-box);\n",
       "  border-radius: 0.25em;\n",
       "  box-sizing: border-box;\n",
       "  margin-bottom: 0.5em;\n",
       "  /* unfitted */\n",
       "  background-color: var(--sklearn-color-unfitted-level-0);\n",
       "}\n",
       "\n",
       "#sk-container-id-1 div.sk-estimator.fitted {\n",
       "  /* fitted */\n",
       "  background-color: var(--sklearn-color-fitted-level-0);\n",
       "}\n",
       "\n",
       "/* on hover */\n",
       "#sk-container-id-1 div.sk-estimator:hover {\n",
       "  /* unfitted */\n",
       "  background-color: var(--sklearn-color-unfitted-level-2);\n",
       "}\n",
       "\n",
       "#sk-container-id-1 div.sk-estimator.fitted:hover {\n",
       "  /* fitted */\n",
       "  background-color: var(--sklearn-color-fitted-level-2);\n",
       "}\n",
       "\n",
       "/* Specification for estimator info (e.g. \"i\" and \"?\") */\n",
       "\n",
       "/* Common style for \"i\" and \"?\" */\n",
       "\n",
       ".sk-estimator-doc-link,\n",
       "a:link.sk-estimator-doc-link,\n",
       "a:visited.sk-estimator-doc-link {\n",
       "  float: right;\n",
       "  font-size: smaller;\n",
       "  line-height: 1em;\n",
       "  font-family: monospace;\n",
       "  background-color: var(--sklearn-color-background);\n",
       "  border-radius: 1em;\n",
       "  height: 1em;\n",
       "  width: 1em;\n",
       "  text-decoration: none !important;\n",
       "  margin-left: 1ex;\n",
       "  /* unfitted */\n",
       "  border: var(--sklearn-color-unfitted-level-1) 1pt solid;\n",
       "  color: var(--sklearn-color-unfitted-level-1);\n",
       "}\n",
       "\n",
       ".sk-estimator-doc-link.fitted,\n",
       "a:link.sk-estimator-doc-link.fitted,\n",
       "a:visited.sk-estimator-doc-link.fitted {\n",
       "  /* fitted */\n",
       "  border: var(--sklearn-color-fitted-level-1) 1pt solid;\n",
       "  color: var(--sklearn-color-fitted-level-1);\n",
       "}\n",
       "\n",
       "/* On hover */\n",
       "div.sk-estimator:hover .sk-estimator-doc-link:hover,\n",
       ".sk-estimator-doc-link:hover,\n",
       "div.sk-label-container:hover .sk-estimator-doc-link:hover,\n",
       ".sk-estimator-doc-link:hover {\n",
       "  /* unfitted */\n",
       "  background-color: var(--sklearn-color-unfitted-level-3);\n",
       "  color: var(--sklearn-color-background);\n",
       "  text-decoration: none;\n",
       "}\n",
       "\n",
       "div.sk-estimator.fitted:hover .sk-estimator-doc-link.fitted:hover,\n",
       ".sk-estimator-doc-link.fitted:hover,\n",
       "div.sk-label-container:hover .sk-estimator-doc-link.fitted:hover,\n",
       ".sk-estimator-doc-link.fitted:hover {\n",
       "  /* fitted */\n",
       "  background-color: var(--sklearn-color-fitted-level-3);\n",
       "  color: var(--sklearn-color-background);\n",
       "  text-decoration: none;\n",
       "}\n",
       "\n",
       "/* Span, style for the box shown on hovering the info icon */\n",
       ".sk-estimator-doc-link span {\n",
       "  display: none;\n",
       "  z-index: 9999;\n",
       "  position: relative;\n",
       "  font-weight: normal;\n",
       "  right: .2ex;\n",
       "  padding: .5ex;\n",
       "  margin: .5ex;\n",
       "  width: min-content;\n",
       "  min-width: 20ex;\n",
       "  max-width: 50ex;\n",
       "  color: var(--sklearn-color-text);\n",
       "  box-shadow: 2pt 2pt 4pt #999;\n",
       "  /* unfitted */\n",
       "  background: var(--sklearn-color-unfitted-level-0);\n",
       "  border: .5pt solid var(--sklearn-color-unfitted-level-3);\n",
       "}\n",
       "\n",
       ".sk-estimator-doc-link.fitted span {\n",
       "  /* fitted */\n",
       "  background: var(--sklearn-color-fitted-level-0);\n",
       "  border: var(--sklearn-color-fitted-level-3);\n",
       "}\n",
       "\n",
       ".sk-estimator-doc-link:hover span {\n",
       "  display: block;\n",
       "}\n",
       "\n",
       "/* \"?\"-specific style due to the `<a>` HTML tag */\n",
       "\n",
       "#sk-container-id-1 a.estimator_doc_link {\n",
       "  float: right;\n",
       "  font-size: 1rem;\n",
       "  line-height: 1em;\n",
       "  font-family: monospace;\n",
       "  background-color: var(--sklearn-color-background);\n",
       "  border-radius: 1rem;\n",
       "  height: 1rem;\n",
       "  width: 1rem;\n",
       "  text-decoration: none;\n",
       "  /* unfitted */\n",
       "  color: var(--sklearn-color-unfitted-level-1);\n",
       "  border: var(--sklearn-color-unfitted-level-1) 1pt solid;\n",
       "}\n",
       "\n",
       "#sk-container-id-1 a.estimator_doc_link.fitted {\n",
       "  /* fitted */\n",
       "  border: var(--sklearn-color-fitted-level-1) 1pt solid;\n",
       "  color: var(--sklearn-color-fitted-level-1);\n",
       "}\n",
       "\n",
       "/* On hover */\n",
       "#sk-container-id-1 a.estimator_doc_link:hover {\n",
       "  /* unfitted */\n",
       "  background-color: var(--sklearn-color-unfitted-level-3);\n",
       "  color: var(--sklearn-color-background);\n",
       "  text-decoration: none;\n",
       "}\n",
       "\n",
       "#sk-container-id-1 a.estimator_doc_link.fitted:hover {\n",
       "  /* fitted */\n",
       "  background-color: var(--sklearn-color-fitted-level-3);\n",
       "}\n",
       "</style><div id=\"sk-container-id-1\" class=\"sk-top-container\"><div class=\"sk-text-repr-fallback\"><pre>LogisticRegression(max_iter=10000)</pre><b>In a Jupyter environment, please rerun this cell to show the HTML representation or trust the notebook. <br />On GitHub, the HTML representation is unable to render, please try loading this page with nbviewer.org.</b></div><div class=\"sk-container\" hidden><div class=\"sk-item\"><div class=\"sk-estimator fitted sk-toggleable\"><input class=\"sk-toggleable__control sk-hidden--visually\" id=\"sk-estimator-id-1\" type=\"checkbox\" checked><label for=\"sk-estimator-id-1\" class=\"sk-toggleable__label fitted sk-toggleable__label-arrow fitted\">&nbsp;&nbsp;LogisticRegression<a class=\"sk-estimator-doc-link fitted\" rel=\"noreferrer\" target=\"_blank\" href=\"https://scikit-learn.org/1.4/modules/generated/sklearn.linear_model.LogisticRegression.html\">?<span>Documentation for LogisticRegression</span></a><span class=\"sk-estimator-doc-link fitted\">i<span>Fitted</span></span></label><div class=\"sk-toggleable__content fitted\"><pre>LogisticRegression(max_iter=10000)</pre></div> </div></div></div></div>"
      ],
      "text/plain": [
       "LogisticRegression(max_iter=10000)"
      ]
     },
     "execution_count": 27,
     "metadata": {},
     "output_type": "execute_result"
    }
   ],
   "source": [
    "model_with_reg = LogisticRegression(max_iter=10000)\n",
    "model_with_reg.fit(X_train, y_train)\n"
   ]
  },
  {
   "cell_type": "markdown",
   "id": "d9b51992-8b60-4e83-8def-f92ad9e4466a",
   "metadata": {},
   "source": [
    "I got 0.95894, so I should use the LogisticRegression with some regularisation\n",
    "\n",
    "Before we try different amounts of regularisation, let's put a StandardScaler in using a pipeline and see if that makes any difference\n",
    "\n",
    "Import make_pipeline and StandardScaler"
   ]
  },
  {
   "cell_type": "code",
   "execution_count": 37,
   "id": "589269f1-0b86-43cc-bf76-f4ad43cb814f",
   "metadata": {},
   "outputs": [],
   "source": [
    "from sklearn.pipeline import make_pipeline\n",
    "from sklearn.preprocessing import StandardScaler"
   ]
  },
  {
   "cell_type": "markdown",
   "id": "9fae7e5a-9a11-4f00-b754-7fb83b8c505a",
   "metadata": {},
   "source": [
    "Create a model with the make_pipeline : StandardScaler and then default LogisticRegression (some regularisation)\n",
    "\n",
    "and get the cross_val_score average"
   ]
  },
  {
   "cell_type": "code",
   "execution_count": 31,
   "id": "584a36bb-5b0c-4066-869f-4ae895bfa9cb",
   "metadata": {},
   "outputs": [
    {
     "name": "stdout",
     "output_type": "stream",
     "text": [
      "Average CV score with pipeline: 0.9645107433217189\n"
     ]
    }
   ],
   "source": [
    "pipeline = make_pipeline(StandardScaler(), LogisticRegression(max_iter=10000))\n",
    "\n",
    "scores_pipeline = cross_val_score(pipeline, X_train, y_train, cv=5)\n",
    "print(\"Average CV score with pipeline:\", np.mean(scores_pipeline))\n"
   ]
  },
  {
   "cell_type": "markdown",
   "id": "658eaeab-e488-4d67-8a4f-b32261f8045e",
   "metadata": {},
   "source": [
    "I got 0.9645, so slightly better again and it was much faster to calculate - less iterations. \n",
    "\n",
    "I should use a standardscaler or let's try one more thing\n",
    "\n",
    "All the values in our X are between 0 and 16. Let's make those number go between 0 and 1 - to do this just divide by 16\n",
    "\n",
    "It is very very common to do this with image data"
   ]
  },
  {
   "cell_type": "code",
   "execution_count": 32,
   "id": "e7bd3c5d-7f25-4e52-a677-5761db53f0cb",
   "metadata": {},
   "outputs": [],
   "source": [
    "X_train_div = X_train/16"
   ]
  },
  {
   "cell_type": "code",
   "execution_count": 33,
   "id": "a5b970e8-1691-4524-8397-e747beb9692f",
   "metadata": {},
   "outputs": [],
   "source": [
    "X_test_div = X_test/16"
   ]
  },
  {
   "cell_type": "code",
   "execution_count": 34,
   "id": "9764a7e0-0269-48b8-97dc-d67e1744e980",
   "metadata": {},
   "outputs": [
    {
     "data": {
      "text/plain": [
       "0.9617305458768872"
      ]
     },
     "execution_count": 34,
     "metadata": {},
     "output_type": "execute_result"
    }
   ],
   "source": [
    "model = LogisticRegression(max_iter=10000)\n",
    "cross_val_score(model, X_train_div, y_train).mean()"
   ]
  },
  {
   "cell_type": "markdown",
   "id": "f01f0052-7eaa-4e47-a54d-1f7478fce981",
   "metadata": {},
   "source": [
    "Not as good, oh well, worth a try\n",
    "\n",
    "# Note\n",
    "\n",
    "Typically with image data we would just do this step anyway (usually dividing by 255) and not bother with StandardScaler - it usually works better for images"
   ]
  },
  {
   "cell_type": "markdown",
   "id": "76db9455-2b8d-44da-8ca0-55e94f360fec",
   "metadata": {},
   "source": [
    "## Cross-validation time on C\n",
    "\n",
    "Set up a list of potential C values, 0.0001, 0.001 etc. up to 10000 are good ones to try but you can mix in 2s and 5s etc - whatever you want"
   ]
  },
  {
   "cell_type": "code",
   "execution_count": 38,
   "id": "703e1c56-5aa3-464f-97f0-f75f64d52d8d",
   "metadata": {},
   "outputs": [],
   "source": [
    "C_values = [0.0001, 0.001, 0.01, 0.1, 1, 2, 5, 10, 100, 1000, 10000]"
   ]
  },
  {
   "cell_type": "markdown",
   "id": "83a55036-f24e-48ff-85c8-6c2d4a5080df",
   "metadata": {},
   "source": [
    "Set up an array to store the scores"
   ]
  },
  {
   "cell_type": "code",
   "execution_count": 40,
   "id": "b3dba751-de35-4f45-bf5b-00db31ca1927",
   "metadata": {},
   "outputs": [],
   "source": [
    "scores = []"
   ]
  },
  {
   "cell_type": "markdown",
   "id": "9b1e66a1-2b40-4c8e-ac86-6e8b16523255",
   "metadata": {},
   "source": [
    "Now loop over each C without a standardscaler firstly, storing each validation average in the array you set up above\n",
    "\n",
    "(using the original X_train)"
   ]
  },
  {
   "cell_type": "code",
   "execution_count": 41,
   "id": "096e0d25-3727-40dc-a45b-9c9a74731bf4",
   "metadata": {},
   "outputs": [],
   "source": [
    "for C in C_values:\n",
    "    model = LogisticRegression(C=C, max_iter=10000)\n",
    "    score = cross_val_score(model, X_train, y_train).mean()\n",
    "    scores.append(score)"
   ]
  },
  {
   "cell_type": "markdown",
   "id": "f52e7a3d-c86b-4a3b-ae2f-c4485bb4567f",
   "metadata": {},
   "source": [
    "Use np.argmax to get the index of the best one, print that score and the C that gave it"
   ]
  },
  {
   "cell_type": "code",
   "execution_count": 42,
   "id": "100f01d3-d4cc-476d-bcb7-9009cc5b3349",
   "metadata": {},
   "outputs": [
    {
     "data": {
      "text/plain": [
       "(0.96312185443283, 0.01)"
      ]
     },
     "execution_count": 42,
     "metadata": {},
     "output_type": "execute_result"
    }
   ],
   "source": [
    "best_score_index = np.argmax(scores)\n",
    "best_score = scores[best_score_index]\n",
    "best_C = C_values[best_score_index]\n",
    "\n",
    "(best_score, best_C)"
   ]
  },
  {
   "cell_type": "markdown",
   "id": "b9af5def-b5e5-4146-bfa0-16224e9d2fef",
   "metadata": {},
   "source": [
    "0.9624274099883856 score with C=0.1\n",
    "\n",
    "Now with StandardScaler"
   ]
  },
  {
   "cell_type": "code",
   "execution_count": 44,
   "id": "132f14cf-f9f1-4aeb-95cb-d6f336785eea",
   "metadata": {},
   "outputs": [],
   "source": [
    "scores_with_scaler = []\n",
    "\n",
    "for C in C_values:\n",
    "    pipeline = make_pipeline(StandardScaler(), LogisticRegression(C=C, max_iter=10000))\n",
    "    score = cross_val_score(pipeline, X_train, y_train, cv=5).mean()\n",
    "    scores_with_scaler.append(score)"
   ]
  },
  {
   "cell_type": "code",
   "execution_count": 45,
   "id": "55963e9d-7b37-4a64-9c6e-584637136f47",
   "metadata": {},
   "outputs": [
    {
     "data": {
      "text/plain": [
       "(0.9645107433217189, 1)"
      ]
     },
     "execution_count": 45,
     "metadata": {},
     "output_type": "execute_result"
    }
   ],
   "source": [
    "best_score_index_scaler = np.argmax(scores_with_scaler)\n",
    "best_score_scaler = scores_with_scaler[best_score_index_scaler]\n",
    "best_C_scaler = C_values[best_score_index_scaler]\n",
    "\n",
    "(best_score_scaler, best_C_scaler)"
   ]
  },
  {
   "cell_type": "markdown",
   "id": "a5dfea29-009f-4da5-a07f-f0b0a3b75142",
   "metadata": {},
   "source": [
    "0.9645107433217189 score with C=1"
   ]
  },
  {
   "cell_type": "code",
   "execution_count": 46,
   "id": "f252ef49-c828-4f98-a869-821042ae686f",
   "metadata": {},
   "outputs": [
    {
     "data": {
      "text/plain": [
       "False"
      ]
     },
     "execution_count": 46,
     "metadata": {},
     "output_type": "execute_result"
    }
   ],
   "source": [
    "0.9624274099883856 > 0.9645107433217189"
   ]
  },
  {
   "cell_type": "markdown",
   "id": "8b477f10-550f-4a67-9939-3f4095c4678e",
   "metadata": {},
   "source": [
    "So my best result (using cross validation), is a LogisticRegression model with C=1 and no StandardScaler. It was very close though"
   ]
  },
  {
   "cell_type": "markdown",
   "id": "fd86bfe6-23b6-46dc-b067-39921678bdbe",
   "metadata": {},
   "source": [
    "I'm curious, what happens if I do the dividing by 16 thing I suggested earlier, use X_train_div and no StandardScaler"
   ]
  },
  {
   "cell_type": "code",
   "execution_count": 47,
   "id": "258be258-d54a-4732-947b-247ceaa37a56",
   "metadata": {},
   "outputs": [],
   "source": [
    "X_train_div = X_train / 16.0\n",
    "X_test_div = X_test / 16.0\n"
   ]
  },
  {
   "cell_type": "code",
   "execution_count": 51,
   "id": "97d87fae-80f5-448b-9a3f-08a2e1c6a799",
   "metadata": {},
   "outputs": [
    {
     "name": "stdout",
     "output_type": "stream",
     "text": [
      "Average cross-validation score with manual scaling: 0.9617305458768872\n"
     ]
    }
   ],
   "source": [
    "model_scaled = LogisticRegression(C=1, max_iter=10000)\n",
    "\n",
    "model_scaled.fit(X_train_div, y_train)\n",
    "\n",
    "scores_scaled = cross_val_score(model_scaled, X_train_div, y_train)\n",
    "average_score_scaled = scores_scaled.mean()\n",
    "\n",
    "print(f\"Average cross-validation score with manual scaling: {average_score_scaled}\")\n",
    "\n"
   ]
  },
  {
   "cell_type": "markdown",
   "id": "b2ca5331-550a-4239-b401-48cfb1c7538c",
   "metadata": {},
   "source": [
    "I got 0.9645180023228803 score with C=10 using X_train_div. This is the best of the lot, so my previous comment of \n",
    "\n",
    "\n",
    "\"Typically with image data we would just do this step anyway (usually dividing by 255) and not bother with StandardScaler - it usually works better for images\" \n",
    "\n",
    "\n",
    "Was correct, I just needed the right regularisation parameter to see it "
   ]
  },
  {
   "cell_type": "markdown",
   "id": "f0cf2aef-0f22-41b4-a3d6-0545d4e36e8c",
   "metadata": {},
   "source": [
    "Now let's build the final model.\n",
    "\n",
    "LogisticRegression, C=10, using X_train_div"
   ]
  },
  {
   "cell_type": "code",
   "execution_count": 52,
   "id": "85244c95-2d68-4c44-bf29-bab24c058ae7",
   "metadata": {},
   "outputs": [
    {
     "data": {
      "text/html": [
       "<style>#sk-container-id-3 {\n",
       "  /* Definition of color scheme common for light and dark mode */\n",
       "  --sklearn-color-text: black;\n",
       "  --sklearn-color-line: gray;\n",
       "  /* Definition of color scheme for unfitted estimators */\n",
       "  --sklearn-color-unfitted-level-0: #fff5e6;\n",
       "  --sklearn-color-unfitted-level-1: #f6e4d2;\n",
       "  --sklearn-color-unfitted-level-2: #ffe0b3;\n",
       "  --sklearn-color-unfitted-level-3: chocolate;\n",
       "  /* Definition of color scheme for fitted estimators */\n",
       "  --sklearn-color-fitted-level-0: #f0f8ff;\n",
       "  --sklearn-color-fitted-level-1: #d4ebff;\n",
       "  --sklearn-color-fitted-level-2: #b3dbfd;\n",
       "  --sklearn-color-fitted-level-3: cornflowerblue;\n",
       "\n",
       "  /* Specific color for light theme */\n",
       "  --sklearn-color-text-on-default-background: var(--sg-text-color, var(--theme-code-foreground, var(--jp-content-font-color1, black)));\n",
       "  --sklearn-color-background: var(--sg-background-color, var(--theme-background, var(--jp-layout-color0, white)));\n",
       "  --sklearn-color-border-box: var(--sg-text-color, var(--theme-code-foreground, var(--jp-content-font-color1, black)));\n",
       "  --sklearn-color-icon: #696969;\n",
       "\n",
       "  @media (prefers-color-scheme: dark) {\n",
       "    /* Redefinition of color scheme for dark theme */\n",
       "    --sklearn-color-text-on-default-background: var(--sg-text-color, var(--theme-code-foreground, var(--jp-content-font-color1, white)));\n",
       "    --sklearn-color-background: var(--sg-background-color, var(--theme-background, var(--jp-layout-color0, #111)));\n",
       "    --sklearn-color-border-box: var(--sg-text-color, var(--theme-code-foreground, var(--jp-content-font-color1, white)));\n",
       "    --sklearn-color-icon: #878787;\n",
       "  }\n",
       "}\n",
       "\n",
       "#sk-container-id-3 {\n",
       "  color: var(--sklearn-color-text);\n",
       "}\n",
       "\n",
       "#sk-container-id-3 pre {\n",
       "  padding: 0;\n",
       "}\n",
       "\n",
       "#sk-container-id-3 input.sk-hidden--visually {\n",
       "  border: 0;\n",
       "  clip: rect(1px 1px 1px 1px);\n",
       "  clip: rect(1px, 1px, 1px, 1px);\n",
       "  height: 1px;\n",
       "  margin: -1px;\n",
       "  overflow: hidden;\n",
       "  padding: 0;\n",
       "  position: absolute;\n",
       "  width: 1px;\n",
       "}\n",
       "\n",
       "#sk-container-id-3 div.sk-dashed-wrapped {\n",
       "  border: 1px dashed var(--sklearn-color-line);\n",
       "  margin: 0 0.4em 0.5em 0.4em;\n",
       "  box-sizing: border-box;\n",
       "  padding-bottom: 0.4em;\n",
       "  background-color: var(--sklearn-color-background);\n",
       "}\n",
       "\n",
       "#sk-container-id-3 div.sk-container {\n",
       "  /* jupyter's `normalize.less` sets `[hidden] { display: none; }`\n",
       "     but bootstrap.min.css set `[hidden] { display: none !important; }`\n",
       "     so we also need the `!important` here to be able to override the\n",
       "     default hidden behavior on the sphinx rendered scikit-learn.org.\n",
       "     See: https://github.com/scikit-learn/scikit-learn/issues/21755 */\n",
       "  display: inline-block !important;\n",
       "  position: relative;\n",
       "}\n",
       "\n",
       "#sk-container-id-3 div.sk-text-repr-fallback {\n",
       "  display: none;\n",
       "}\n",
       "\n",
       "div.sk-parallel-item,\n",
       "div.sk-serial,\n",
       "div.sk-item {\n",
       "  /* draw centered vertical line to link estimators */\n",
       "  background-image: linear-gradient(var(--sklearn-color-text-on-default-background), var(--sklearn-color-text-on-default-background));\n",
       "  background-size: 2px 100%;\n",
       "  background-repeat: no-repeat;\n",
       "  background-position: center center;\n",
       "}\n",
       "\n",
       "/* Parallel-specific style estimator block */\n",
       "\n",
       "#sk-container-id-3 div.sk-parallel-item::after {\n",
       "  content: \"\";\n",
       "  width: 100%;\n",
       "  border-bottom: 2px solid var(--sklearn-color-text-on-default-background);\n",
       "  flex-grow: 1;\n",
       "}\n",
       "\n",
       "#sk-container-id-3 div.sk-parallel {\n",
       "  display: flex;\n",
       "  align-items: stretch;\n",
       "  justify-content: center;\n",
       "  background-color: var(--sklearn-color-background);\n",
       "  position: relative;\n",
       "}\n",
       "\n",
       "#sk-container-id-3 div.sk-parallel-item {\n",
       "  display: flex;\n",
       "  flex-direction: column;\n",
       "}\n",
       "\n",
       "#sk-container-id-3 div.sk-parallel-item:first-child::after {\n",
       "  align-self: flex-end;\n",
       "  width: 50%;\n",
       "}\n",
       "\n",
       "#sk-container-id-3 div.sk-parallel-item:last-child::after {\n",
       "  align-self: flex-start;\n",
       "  width: 50%;\n",
       "}\n",
       "\n",
       "#sk-container-id-3 div.sk-parallel-item:only-child::after {\n",
       "  width: 0;\n",
       "}\n",
       "\n",
       "/* Serial-specific style estimator block */\n",
       "\n",
       "#sk-container-id-3 div.sk-serial {\n",
       "  display: flex;\n",
       "  flex-direction: column;\n",
       "  align-items: center;\n",
       "  background-color: var(--sklearn-color-background);\n",
       "  padding-right: 1em;\n",
       "  padding-left: 1em;\n",
       "}\n",
       "\n",
       "\n",
       "/* Toggleable style: style used for estimator/Pipeline/ColumnTransformer box that is\n",
       "clickable and can be expanded/collapsed.\n",
       "- Pipeline and ColumnTransformer use this feature and define the default style\n",
       "- Estimators will overwrite some part of the style using the `sk-estimator` class\n",
       "*/\n",
       "\n",
       "/* Pipeline and ColumnTransformer style (default) */\n",
       "\n",
       "#sk-container-id-3 div.sk-toggleable {\n",
       "  /* Default theme specific background. It is overwritten whether we have a\n",
       "  specific estimator or a Pipeline/ColumnTransformer */\n",
       "  background-color: var(--sklearn-color-background);\n",
       "}\n",
       "\n",
       "/* Toggleable label */\n",
       "#sk-container-id-3 label.sk-toggleable__label {\n",
       "  cursor: pointer;\n",
       "  display: block;\n",
       "  width: 100%;\n",
       "  margin-bottom: 0;\n",
       "  padding: 0.5em;\n",
       "  box-sizing: border-box;\n",
       "  text-align: center;\n",
       "}\n",
       "\n",
       "#sk-container-id-3 label.sk-toggleable__label-arrow:before {\n",
       "  /* Arrow on the left of the label */\n",
       "  content: \"▸\";\n",
       "  float: left;\n",
       "  margin-right: 0.25em;\n",
       "  color: var(--sklearn-color-icon);\n",
       "}\n",
       "\n",
       "#sk-container-id-3 label.sk-toggleable__label-arrow:hover:before {\n",
       "  color: var(--sklearn-color-text);\n",
       "}\n",
       "\n",
       "/* Toggleable content - dropdown */\n",
       "\n",
       "#sk-container-id-3 div.sk-toggleable__content {\n",
       "  max-height: 0;\n",
       "  max-width: 0;\n",
       "  overflow: hidden;\n",
       "  text-align: left;\n",
       "  /* unfitted */\n",
       "  background-color: var(--sklearn-color-unfitted-level-0);\n",
       "}\n",
       "\n",
       "#sk-container-id-3 div.sk-toggleable__content.fitted {\n",
       "  /* fitted */\n",
       "  background-color: var(--sklearn-color-fitted-level-0);\n",
       "}\n",
       "\n",
       "#sk-container-id-3 div.sk-toggleable__content pre {\n",
       "  margin: 0.2em;\n",
       "  border-radius: 0.25em;\n",
       "  color: var(--sklearn-color-text);\n",
       "  /* unfitted */\n",
       "  background-color: var(--sklearn-color-unfitted-level-0);\n",
       "}\n",
       "\n",
       "#sk-container-id-3 div.sk-toggleable__content.fitted pre {\n",
       "  /* unfitted */\n",
       "  background-color: var(--sklearn-color-fitted-level-0);\n",
       "}\n",
       "\n",
       "#sk-container-id-3 input.sk-toggleable__control:checked~div.sk-toggleable__content {\n",
       "  /* Expand drop-down */\n",
       "  max-height: 200px;\n",
       "  max-width: 100%;\n",
       "  overflow: auto;\n",
       "}\n",
       "\n",
       "#sk-container-id-3 input.sk-toggleable__control:checked~label.sk-toggleable__label-arrow:before {\n",
       "  content: \"▾\";\n",
       "}\n",
       "\n",
       "/* Pipeline/ColumnTransformer-specific style */\n",
       "\n",
       "#sk-container-id-3 div.sk-label input.sk-toggleable__control:checked~label.sk-toggleable__label {\n",
       "  color: var(--sklearn-color-text);\n",
       "  background-color: var(--sklearn-color-unfitted-level-2);\n",
       "}\n",
       "\n",
       "#sk-container-id-3 div.sk-label.fitted input.sk-toggleable__control:checked~label.sk-toggleable__label {\n",
       "  background-color: var(--sklearn-color-fitted-level-2);\n",
       "}\n",
       "\n",
       "/* Estimator-specific style */\n",
       "\n",
       "/* Colorize estimator box */\n",
       "#sk-container-id-3 div.sk-estimator input.sk-toggleable__control:checked~label.sk-toggleable__label {\n",
       "  /* unfitted */\n",
       "  background-color: var(--sklearn-color-unfitted-level-2);\n",
       "}\n",
       "\n",
       "#sk-container-id-3 div.sk-estimator.fitted input.sk-toggleable__control:checked~label.sk-toggleable__label {\n",
       "  /* fitted */\n",
       "  background-color: var(--sklearn-color-fitted-level-2);\n",
       "}\n",
       "\n",
       "#sk-container-id-3 div.sk-label label.sk-toggleable__label,\n",
       "#sk-container-id-3 div.sk-label label {\n",
       "  /* The background is the default theme color */\n",
       "  color: var(--sklearn-color-text-on-default-background);\n",
       "}\n",
       "\n",
       "/* On hover, darken the color of the background */\n",
       "#sk-container-id-3 div.sk-label:hover label.sk-toggleable__label {\n",
       "  color: var(--sklearn-color-text);\n",
       "  background-color: var(--sklearn-color-unfitted-level-2);\n",
       "}\n",
       "\n",
       "/* Label box, darken color on hover, fitted */\n",
       "#sk-container-id-3 div.sk-label.fitted:hover label.sk-toggleable__label.fitted {\n",
       "  color: var(--sklearn-color-text);\n",
       "  background-color: var(--sklearn-color-fitted-level-2);\n",
       "}\n",
       "\n",
       "/* Estimator label */\n",
       "\n",
       "#sk-container-id-3 div.sk-label label {\n",
       "  font-family: monospace;\n",
       "  font-weight: bold;\n",
       "  display: inline-block;\n",
       "  line-height: 1.2em;\n",
       "}\n",
       "\n",
       "#sk-container-id-3 div.sk-label-container {\n",
       "  text-align: center;\n",
       "}\n",
       "\n",
       "/* Estimator-specific */\n",
       "#sk-container-id-3 div.sk-estimator {\n",
       "  font-family: monospace;\n",
       "  border: 1px dotted var(--sklearn-color-border-box);\n",
       "  border-radius: 0.25em;\n",
       "  box-sizing: border-box;\n",
       "  margin-bottom: 0.5em;\n",
       "  /* unfitted */\n",
       "  background-color: var(--sklearn-color-unfitted-level-0);\n",
       "}\n",
       "\n",
       "#sk-container-id-3 div.sk-estimator.fitted {\n",
       "  /* fitted */\n",
       "  background-color: var(--sklearn-color-fitted-level-0);\n",
       "}\n",
       "\n",
       "/* on hover */\n",
       "#sk-container-id-3 div.sk-estimator:hover {\n",
       "  /* unfitted */\n",
       "  background-color: var(--sklearn-color-unfitted-level-2);\n",
       "}\n",
       "\n",
       "#sk-container-id-3 div.sk-estimator.fitted:hover {\n",
       "  /* fitted */\n",
       "  background-color: var(--sklearn-color-fitted-level-2);\n",
       "}\n",
       "\n",
       "/* Specification for estimator info (e.g. \"i\" and \"?\") */\n",
       "\n",
       "/* Common style for \"i\" and \"?\" */\n",
       "\n",
       ".sk-estimator-doc-link,\n",
       "a:link.sk-estimator-doc-link,\n",
       "a:visited.sk-estimator-doc-link {\n",
       "  float: right;\n",
       "  font-size: smaller;\n",
       "  line-height: 1em;\n",
       "  font-family: monospace;\n",
       "  background-color: var(--sklearn-color-background);\n",
       "  border-radius: 1em;\n",
       "  height: 1em;\n",
       "  width: 1em;\n",
       "  text-decoration: none !important;\n",
       "  margin-left: 1ex;\n",
       "  /* unfitted */\n",
       "  border: var(--sklearn-color-unfitted-level-1) 1pt solid;\n",
       "  color: var(--sklearn-color-unfitted-level-1);\n",
       "}\n",
       "\n",
       ".sk-estimator-doc-link.fitted,\n",
       "a:link.sk-estimator-doc-link.fitted,\n",
       "a:visited.sk-estimator-doc-link.fitted {\n",
       "  /* fitted */\n",
       "  border: var(--sklearn-color-fitted-level-1) 1pt solid;\n",
       "  color: var(--sklearn-color-fitted-level-1);\n",
       "}\n",
       "\n",
       "/* On hover */\n",
       "div.sk-estimator:hover .sk-estimator-doc-link:hover,\n",
       ".sk-estimator-doc-link:hover,\n",
       "div.sk-label-container:hover .sk-estimator-doc-link:hover,\n",
       ".sk-estimator-doc-link:hover {\n",
       "  /* unfitted */\n",
       "  background-color: var(--sklearn-color-unfitted-level-3);\n",
       "  color: var(--sklearn-color-background);\n",
       "  text-decoration: none;\n",
       "}\n",
       "\n",
       "div.sk-estimator.fitted:hover .sk-estimator-doc-link.fitted:hover,\n",
       ".sk-estimator-doc-link.fitted:hover,\n",
       "div.sk-label-container:hover .sk-estimator-doc-link.fitted:hover,\n",
       ".sk-estimator-doc-link.fitted:hover {\n",
       "  /* fitted */\n",
       "  background-color: var(--sklearn-color-fitted-level-3);\n",
       "  color: var(--sklearn-color-background);\n",
       "  text-decoration: none;\n",
       "}\n",
       "\n",
       "/* Span, style for the box shown on hovering the info icon */\n",
       ".sk-estimator-doc-link span {\n",
       "  display: none;\n",
       "  z-index: 9999;\n",
       "  position: relative;\n",
       "  font-weight: normal;\n",
       "  right: .2ex;\n",
       "  padding: .5ex;\n",
       "  margin: .5ex;\n",
       "  width: min-content;\n",
       "  min-width: 20ex;\n",
       "  max-width: 50ex;\n",
       "  color: var(--sklearn-color-text);\n",
       "  box-shadow: 2pt 2pt 4pt #999;\n",
       "  /* unfitted */\n",
       "  background: var(--sklearn-color-unfitted-level-0);\n",
       "  border: .5pt solid var(--sklearn-color-unfitted-level-3);\n",
       "}\n",
       "\n",
       ".sk-estimator-doc-link.fitted span {\n",
       "  /* fitted */\n",
       "  background: var(--sklearn-color-fitted-level-0);\n",
       "  border: var(--sklearn-color-fitted-level-3);\n",
       "}\n",
       "\n",
       ".sk-estimator-doc-link:hover span {\n",
       "  display: block;\n",
       "}\n",
       "\n",
       "/* \"?\"-specific style due to the `<a>` HTML tag */\n",
       "\n",
       "#sk-container-id-3 a.estimator_doc_link {\n",
       "  float: right;\n",
       "  font-size: 1rem;\n",
       "  line-height: 1em;\n",
       "  font-family: monospace;\n",
       "  background-color: var(--sklearn-color-background);\n",
       "  border-radius: 1rem;\n",
       "  height: 1rem;\n",
       "  width: 1rem;\n",
       "  text-decoration: none;\n",
       "  /* unfitted */\n",
       "  color: var(--sklearn-color-unfitted-level-1);\n",
       "  border: var(--sklearn-color-unfitted-level-1) 1pt solid;\n",
       "}\n",
       "\n",
       "#sk-container-id-3 a.estimator_doc_link.fitted {\n",
       "  /* fitted */\n",
       "  border: var(--sklearn-color-fitted-level-1) 1pt solid;\n",
       "  color: var(--sklearn-color-fitted-level-1);\n",
       "}\n",
       "\n",
       "/* On hover */\n",
       "#sk-container-id-3 a.estimator_doc_link:hover {\n",
       "  /* unfitted */\n",
       "  background-color: var(--sklearn-color-unfitted-level-3);\n",
       "  color: var(--sklearn-color-background);\n",
       "  text-decoration: none;\n",
       "}\n",
       "\n",
       "#sk-container-id-3 a.estimator_doc_link.fitted:hover {\n",
       "  /* fitted */\n",
       "  background-color: var(--sklearn-color-fitted-level-3);\n",
       "}\n",
       "</style><div id=\"sk-container-id-3\" class=\"sk-top-container\"><div class=\"sk-text-repr-fallback\"><pre>LogisticRegression(C=10, max_iter=10000)</pre><b>In a Jupyter environment, please rerun this cell to show the HTML representation or trust the notebook. <br />On GitHub, the HTML representation is unable to render, please try loading this page with nbviewer.org.</b></div><div class=\"sk-container\" hidden><div class=\"sk-item\"><div class=\"sk-estimator fitted sk-toggleable\"><input class=\"sk-toggleable__control sk-hidden--visually\" id=\"sk-estimator-id-3\" type=\"checkbox\" checked><label for=\"sk-estimator-id-3\" class=\"sk-toggleable__label fitted sk-toggleable__label-arrow fitted\">&nbsp;&nbsp;LogisticRegression<a class=\"sk-estimator-doc-link fitted\" rel=\"noreferrer\" target=\"_blank\" href=\"https://scikit-learn.org/1.4/modules/generated/sklearn.linear_model.LogisticRegression.html\">?<span>Documentation for LogisticRegression</span></a><span class=\"sk-estimator-doc-link fitted\">i<span>Fitted</span></span></label><div class=\"sk-toggleable__content fitted\"><pre>LogisticRegression(C=10, max_iter=10000)</pre></div> </div></div></div></div>"
      ],
      "text/plain": [
       "LogisticRegression(C=10, max_iter=10000)"
      ]
     },
     "execution_count": 52,
     "metadata": {},
     "output_type": "execute_result"
    }
   ],
   "source": [
    "final_model = LogisticRegression(C=10, max_iter=10000)\n",
    "final_model.fit(X_train_div, y_train)"
   ]
  },
  {
   "cell_type": "markdown",
   "id": "0994897e-9d1a-46a2-8d6f-36e97b8284b4",
   "metadata": {},
   "source": [
    "Print train and test scores (remember use X_test_div)"
   ]
  },
  {
   "cell_type": "code",
   "execution_count": 53,
   "id": "c48dc68f-7d63-4dc7-acb5-acb762321b06",
   "metadata": {},
   "outputs": [
    {
     "name": "stdout",
     "output_type": "stream",
     "text": [
      "Training score: 0.9993041057759221\n",
      "Test score: 0.975\n"
     ]
    }
   ],
   "source": [
    "training_score = final_model.score(X_train_div, y_train)\n",
    "print(f\"Training score: {training_score}\")\n",
    "\n",
    "test_score = final_model.score(X_test_div, y_test)\n",
    "print(f\"Test score: {test_score}\")\n"
   ]
  },
  {
   "cell_type": "markdown",
   "id": "ca1efb28-dadd-4f32-864d-f5425ca4662e",
   "metadata": {},
   "source": [
    "End Result I got\n",
    "- 0.9993 training score\n",
    "- 0.975 test score"
   ]
  }
 ],
 "metadata": {
  "kernelspec": {
   "display_name": "Python 3 (ipykernel)",
   "language": "python",
   "name": "python3"
  },
  "language_info": {
   "codemirror_mode": {
    "name": "ipython",
    "version": 3
   },
   "file_extension": ".py",
   "mimetype": "text/x-python",
   "name": "python",
   "nbconvert_exporter": "python",
   "pygments_lexer": "ipython3",
   "version": "3.9.18"
  }
 },
 "nbformat": 4,
 "nbformat_minor": 5
}
